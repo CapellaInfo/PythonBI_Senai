{
 "cells": [
  {
   "cell_type": "code",
   "execution_count": 21,
   "metadata": {},
   "outputs": [],
   "source": [
    "import requests"
   ]
  },
  {
   "cell_type": "code",
   "execution_count": 29,
   "metadata": {},
   "outputs": [
    {
     "name": "stdout",
     "output_type": "stream",
     "text": [
      "https://api.openweathermap.org/data/2.5/weather?q=são paulo&appid=b9ebe666087f299f5e2aad3a03d093b6\n",
      "{'coord': {'lon': -46.6361, 'lat': -23.5475}, 'weather': [{'id': 801, 'main': 'Clouds', 'description': 'few clouds', 'icon': '02d'}], 'base': 'stations', 'main': {'temp': 300.15, 'feels_like': 300.63, 'temp_min': 299.9, 'temp_max': 301.09, 'pressure': 1021, 'humidity': 51}, 'visibility': 10000, 'wind': {'speed': 2.57, 'deg': 100}, 'clouds': {'all': 20}, 'dt': 1716406100, 'sys': {'type': 1, 'id': 8394, 'country': 'BR', 'sunrise': 1716370619, 'sunset': 1716409789}, 'timezone': -10800, 'id': 3448439, 'name': 'São Paulo', 'cod': 200}\n"
     ]
    }
   ],
   "source": [
    "apiKey = \"b9ebe666087f299f5e2aad3a03d093b6\"\n",
    "baseUrl = \"https://api.openweathermap.org/data/2.5/weather\"\n",
    "city = str(input('Informe a Cidade:'))\n",
    "url = f'{baseUrl}?q={city}&appid={apiKey}'\n",
    "print(url)\n",
    "\n",
    "response = requests.get(url)\n",
    "\n",
    "if response.status_code == 200:\n",
    "    data = response.json()\n",
    "    print(data)\n",
    "else:\n",
    "    print(\"Falha na requisição:\", response.status_code)"
   ]
  }
 ],
 "metadata": {
  "kernelspec": {
   "display_name": "Python 3",
   "language": "python",
   "name": "python3"
  },
  "language_info": {
   "codemirror_mode": {
    "name": "ipython",
    "version": 3
   },
   "file_extension": ".py",
   "mimetype": "text/x-python",
   "name": "python",
   "nbconvert_exporter": "python",
   "pygments_lexer": "ipython3",
   "version": "3.12.1"
  }
 },
 "nbformat": 4,
 "nbformat_minor": 2
}
