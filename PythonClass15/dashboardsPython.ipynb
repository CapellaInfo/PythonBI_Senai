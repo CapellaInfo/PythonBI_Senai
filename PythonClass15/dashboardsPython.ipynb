{
 "cells": [
  {
   "cell_type": "code",
   "execution_count": 159,
   "metadata": {},
   "outputs": [],
   "source": [
    "import pandas as pd\n",
    "import matplotlib.pyplot as plt"
   ]
  },
  {
   "cell_type": "code",
   "execution_count": 151,
   "metadata": {},
   "outputs": [
    {
     "name": "stdout",
     "output_type": "stream",
     "text": [
      "                                               lojas\n",
      "0  {'id': 1, 'dados_mensais': [{'mes': 1, 'fatura...\n",
      "1  {'id': 2, 'dados_mensais': [{'mes': 1, 'fatura...\n",
      "2  {'id': 3, 'dados_mensais': [{'mes': 1, 'fatura...\n",
      "3  {'id': 4, 'dados_mensais': [{'mes': 1, 'fatura...\n",
      "4  {'id': 5, 'dados_mensais': [{'mes': 1, 'fatura...\n"
     ]
    }
   ],
   "source": [
    "df_supermarket = pd.read_json('supermarket.json')\n",
    "print(df_supermarket.head())"
   ]
  },
  {
   "cell_type": "code",
   "execution_count": 152,
   "metadata": {},
   "outputs": [
    {
     "data": {
      "text/plain": [
       "{'mes': 1,\n",
       " 'faturamento': {'higiene_e_saude': 15200,\n",
       "  'limpeza': 19800,\n",
       "  'bebidas': 8600,\n",
       "  'carne_e_laticinios': 4900,\n",
       "  'alimentacao': 5300},\n",
       " 'gastos_funcionarios': 20000,\n",
       " 'despesas_fornecedores': 15000,\n",
       " 'gastos_diversos': 5000}"
      ]
     },
     "execution_count": 152,
     "metadata": {},
     "output_type": "execute_result"
    }
   ],
   "source": [
    "# Faturamento por loja por mês\n",
    "def extrair_dados_loja(loja_id, mes):\n",
    "    for loja in df_supermarket['lojas']:\n",
    "        if loja['id'] == loja_id:\n",
    "            for dados_mensais in loja['dados_mensais']:\n",
    "                if dados_mensais['mes'] == mes:\n",
    "                    return dados_mensais\n",
    "    return None\n",
    "\n",
    "\n",
    "extrair_dados_loja(1,1)"
   ]
  },
  {
   "cell_type": "code",
   "execution_count": 153,
   "metadata": {},
   "outputs": [
    {
     "data": {
      "text/plain": [
       "53200"
      ]
     },
     "execution_count": 153,
     "metadata": {},
     "output_type": "execute_result"
    }
   ],
   "source": [
    "# Faturamento total por loja por mês\n",
    "def extrair_faturamento_loja(loja_id, mes):\n",
    "    for loja in df_supermarket['lojas']:\n",
    "        if loja['id'] == loja_id:\n",
    "            for dados_mensais in loja['dados_mensais']:\n",
    "                if dados_mensais['mes'] == mes:\n",
    "                    for faturamento_total in dados_mensais['faturamento']:\n",
    "                        faturamento_total = sum(dados_mensais['faturamento'].values())\n",
    "                        return faturamento_total\n",
    "    return None\n",
    "\n",
    "\n",
    "extrair_faturamento_loja(3,2)"
   ]
  },
  {
   "cell_type": "code",
   "execution_count": 154,
   "metadata": {},
   "outputs": [
    {
     "data": {
      "text/plain": [
       "53400"
      ]
     },
     "execution_count": 154,
     "metadata": {},
     "output_type": "execute_result"
    }
   ],
   "source": [
    "# Faturamento loja por ano\n",
    "def extrair_faturamento_loja_ano(loja_id):\n",
    "    for loja in df_supermarket['lojas']:\n",
    "        if loja['id'] == loja_id:\n",
    "            for dados_mensais in loja['dados_mensais']:\n",
    "                for faturamento_mensal in dados_mensais['faturamento']:\n",
    "                    faturamento_mensal = sum(dados_mensais['faturamento'].values())\n",
    "    return faturamento_mensal\n",
    "\n",
    "extrair_faturamento_loja_ano(1)"
   ]
  },
  {
   "cell_type": "code",
   "execution_count": 155,
   "metadata": {},
   "outputs": [
    {
     "name": "stdout",
     "output_type": "stream",
     "text": [
      "53400\n",
      "63100\n",
      "26200\n"
     ]
    },
    {
     "data": {
      "text/plain": [
       "26200"
      ]
     },
     "execution_count": 155,
     "metadata": {},
     "output_type": "execute_result"
    }
   ],
   "source": [
    "# Lucro loja por ano\n",
    "def extrair_lucro_loja_ano(loja_id):\n",
    "    for loja in df_supermarket['lojas']:\n",
    "        if loja['id'] == loja_id:\n",
    "            faturamento_mes = 0\n",
    "            lucro_anual = 0\n",
    "            for dados_mensais in loja['dados_mensais']:\n",
    "                faturamento_mes =  sum(dados_mensais['faturamento'].values())\n",
    "                gastos_mes = dados_mensais['gastos_funcionarios'] + dados_mensais['despesas_fornecedores'] + dados_mensais['gastos_diversos']\n",
    "                lucro_anual += (faturamento_mes - gastos_mes)\n",
    "            print(faturamento_mes)\n",
    "            print(gastos_mes)\n",
    "            print(lucro_anual)\n",
    "    return lucro_anual\n",
    "    \n",
    "extrair_lucro_loja_ano(1)"
   ]
  },
  {
   "cell_type": "code",
   "execution_count": 160,
   "metadata": {},
   "outputs": [
    {
     "data": {
      "text/plain": [
       "[<matplotlib.lines.Line2D at 0x20eb208a480>]"
      ]
     },
     "execution_count": 160,
     "metadata": {},
     "output_type": "execute_result"
    },
    {
     "data": {
      "image/png": "[encoded data removed]",
      "text/plain": [
       "<Figure size 640x480 with 1 Axes>"
      ]
     },
     "metadata": {},
     "output_type": "display_data"
    }
   ],
   "source": [
    "lojas = range(1,6)\n",
    "faturamento = []\n",
    "for i in lojas:\n",
    "    faturamento.append(extrair_faturamento_loja_ano(i))\n",
    "\n",
    "plt.plot(lojas, faturamento, 'o')"
   ]
  },
  {
   "cell_type": "code",
   "execution_count": 164,
   "metadata": {},
   "outputs": [
    {
     "data": {
      "text/plain": [
       "[<matplotlib.lines.Line2D at 0x20eb5a8e1e0>]"
      ]
     },
     "execution_count": 164,
     "metadata": {},
     "output_type": "execute_result"
    },
    {
     "data": {
      "image/png": "[encoded data removed]",
      "text/plain": [
       "<Figure size 640x480 with 1 Axes>"
      ]
     },
     "metadata": {},
     "output_type": "display_data"
    }
   ],
   "source": [
    "meses = range(1,13)\n",
    "faturamento_mes = []\n",
    "for i in meses:\n",
    "    faturamento_mes.append(extrair_faturamento_loja(5,i))\n",
    "\n",
    "plt.plot(meses, faturamento_mes, '-')"
   ]
  }
 ],
 "metadata": {
  "kernelspec": {
   "display_name": "Python 3",
   "language": "python",
   "name": "python3"
  },
  "language_info": {
   "codemirror_mode": {
    "name": "ipython",
    "version": 3
   },
   "file_extension": ".py",
   "mimetype": "text/x-python",
   "name": "python",
   "nbconvert_exporter": "python",
   "pygments_lexer": "ipython3",
   "version": "3.12.1"
  }
 },
 "nbformat": 4,
 "nbformat_minor": 2
}
