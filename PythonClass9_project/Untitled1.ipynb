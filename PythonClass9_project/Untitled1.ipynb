{
  "cells": [
    {
      "cell_type": "markdown",
      "metadata": {
        "id": "N0tb-FT5TR_k"
      },
      "source": [
        "# **ANÁLISE DE VENDAS**"
      ]
    },
    {
      "cell_type": "markdown",
      "metadata": {
        "id": "_cxfugSUSfV7"
      },
      "source": [
        "## **Leitura e Visualização Inicial**"
      ]
    },
    {
      "cell_type": "code",
      "execution_count": 1,
      "metadata": {
        "id": "S48IkRv3T-jM"
      },
      "outputs": [
        {
          "ename": "",
          "evalue": "",
          "output_type": "error",
          "traceback": [
            "\u001b[1;31mThe Kernel crashed while executing code in the current cell or a previous cell. \n",
            "\u001b[1;31mPlease review the code in the cell(s) to identify a possible cause of the failure. \n",
            "\u001b[1;31mClick <a href='https://aka.ms/vscodeJupyterKernelCrash'>here</a> for more info. \n",
            "\u001b[1;31mView Jupyter <a href='command:jupyter.viewOutput'>log</a> for further details."
          ]
        }
      ],
      "source": [
        "!pip install ydata-profiling"
      ]
    },
    {
      "cell_type": "code",
      "execution_count": null,
      "metadata": {
        "id": "bP1RPWNqUGjT"
      },
      "outputs": [],
      "source": [
        "from ydata_profiling import ProfileReport"
      ]
    },
    {
      "cell_type": "code",
      "execution_count": null,
      "metadata": {
        "id": "Raw4IUVvUKAM"
      },
      "outputs": [],
      "source": [
        "!pip install --upgrade Pillow"
      ]
    },
    {
      "cell_type": "code",
      "execution_count": 17,
      "metadata": {
        "id": "6zvg-37NTOrr"
      },
      "outputs": [],
      "source": [
        "import pandas as pd\n",
        "import yaml\n",
        "\n",
        "# Carregar os dados dos funcionários a partir do arquivo YAML\n",
        "with open('empresa.yaml', 'r') as file:\n",
        "    dados = yaml.safe_load(file)"
      ]
    },
    {
      "cell_type": "markdown",
      "metadata": {},
      "source": []
    },
    {
      "cell_type": "code",
      "execution_count": 18,
      "metadata": {
        "id": "T3DbGMcVaHmO"
      },
      "outputs": [
        {
          "name": "stdout",
          "output_type": "stream",
          "text": [
            "              id  quantidade  preco_unitario  cliente_id\n",
            "count  60.000000   60.000000       60.000000   60.000000\n",
            "mean   30.500000    1.833333     3500.000000  107.800000\n",
            "std    17.464249    0.806051     1089.238577    4.111992\n",
            "min     1.000000    1.000000     2500.000000  101.000000\n",
            "25%    15.750000    1.000000     2500.000000  104.000000\n",
            "50%    30.500000    2.000000     3000.000000  108.000000\n",
            "75%    45.250000    2.250000     5000.000000  112.000000\n",
            "max    60.000000    3.000000     5000.000000  113.000000\n",
            "   id        data   produto  quantidade  preco_unitario  cliente_id\n",
            "0   1  2023-01-05  Banheira           2          2500.0         101\n",
            "1   2  2023-02-12    OfurÃ´           1          3000.0         113\n",
            "2   3  2023-03-20       Spa           3          5000.0         103\n",
            "3   4  2023-04-10  Banheira           1          2500.0         104\n",
            "4   5  2023-05-15    OfurÃ´           2          3000.0         105\n"
          ]
        }
      ],
      "source": [
        "# Tabela de Vendas\n",
        "df_vendas = pd.DataFrame(dados['vendas'])\n",
        "print(df_vendas.describe())\n",
        "print(df_vendas.head())"
      ]
    },
    {
      "cell_type": "code",
      "execution_count": 19,
      "metadata": {
        "id": "W_4rnqaaaKAO"
      },
      "outputs": [
        {
          "name": "stdout",
          "output_type": "stream",
          "text": [
            "              id      idade\n",
            "count   13.00000  12.000000\n",
            "mean   107.00000  46.333333\n",
            "std      3.89444   7.126561\n",
            "min    101.00000  36.000000\n",
            "25%    104.00000  41.500000\n",
            "50%    107.00000  46.000000\n",
            "75%    110.00000  50.500000\n",
            "max    113.00000  60.000000\n",
            "    id            nome  idade       sexo          cidade valor_gasto_total\n",
            "0  101  JoÃ£o da Silva   45.0  Masculino      SÃ£o Paulo              None\n",
            "1  102  Maria Oliveira   38.0   Feminino  Rio de Janeiro              None\n",
            "2  103    Carlos Souza   50.0  Masculino  Belo Horizonte              None\n",
            "3  104      Ana Santos   55.0   Feminino    Porto Alegre              None\n",
            "4  105     Pedro Costa   42.0  Masculino       BrasÃ­lia              None\n"
          ]
        }
      ],
      "source": [
        "# Tabela de Clientes\n",
        "df_cliente = pd.DataFrame(dados['comportamento_do_cliente'])\n",
        "print(df_cliente.describe())\n",
        "print(df_cliente.head())"
      ]
    },
    {
      "cell_type": "code",
      "execution_count": 20,
      "metadata": {
        "id": "cAEYkTmRaMkT"
      },
      "outputs": [
        {
          "name": "stdout",
          "output_type": "stream",
          "text": [
            "         produto vendas_totais receita_total\n",
            "count          3             0             0\n",
            "unique         3             0             0\n",
            "top     Banheira           NaN           NaN\n",
            "freq           1           NaN           NaN\n",
            "    id            nome  idade       sexo          cidade valor_gasto_total\n",
            "0  101  JoÃ£o da Silva   45.0  Masculino      SÃ£o Paulo              None\n",
            "1  102  Maria Oliveira   38.0   Feminino  Rio de Janeiro              None\n",
            "2  103    Carlos Souza   50.0  Masculino  Belo Horizonte              None\n",
            "3  104      Ana Santos   55.0   Feminino    Porto Alegre              None\n",
            "4  105     Pedro Costa   42.0  Masculino       BrasÃ­lia              None\n"
          ]
        }
      ],
      "source": [
        "# Tabela de Produtos\n",
        "df_produto = pd.DataFrame(dados['desempenho_do_produto'])\n",
        "print(df_produto.describe())\n",
        "print(df_cliente.head())"
      ]
    },
    {
      "cell_type": "code",
      "execution_count": 9,
      "metadata": {
        "id": "V_CNfu32UPob"
      },
      "outputs": [],
      "source": [
        "profile = ProfileReport(df_vendas, title=\"vendas\")"
      ]
    },
    {
      "cell_type": "code",
      "execution_count": 10,
      "metadata": {
        "id": "jDGzihHpU1cy"
      },
      "outputs": [
        {
          "name": "stderr",
          "output_type": "stream",
          "text": [
            "Summarize dataset: 100%|██████████| 19/19 [00:10<00:00,  1.83it/s, Completed]                      \n",
            "Generate report structure: 100%|██████████| 1/1 [00:21<00:00, 21.50s/it]\n",
            "Render HTML: 100%|██████████| 1/1 [00:02<00:00,  2.71s/it]\n",
            "Export report to file: 100%|██████████| 1/1 [00:00<00:00, 123.54it/s]\n"
          ]
        }
      ],
      "source": [
        "profile.to_file(\"vendas.html\")"
      ]
    },
    {
      "cell_type": "code",
      "execution_count": 78,
      "metadata": {
        "id": "zTjQdP41brn5"
      },
      "outputs": [
        {
          "name": "stdout",
          "output_type": "stream",
          "text": [
            "data\n",
            "2023-01-05    5\n",
            "2023-02-12    5\n",
            "2023-03-20    5\n",
            "2023-04-10    5\n",
            "2023-05-15    5\n",
            "2023-06-25    5\n",
            "2023-07-05    5\n",
            "2023-08-18    5\n",
            "2023-09-30    5\n",
            "2023-10-08    5\n",
            "2023-11-12    5\n",
            "2023-12-20    5\n",
            "Name: count, dtype: int64\n",
            "         data  quantidade        mes\n",
            "0  2023-01-05          12    janeiro\n",
            "1  2023-02-12           9  fevereiro\n",
            "2  2023-03-20           9     marÃ§o\n",
            "3  2023-04-10           7      abril\n",
            "4  2023-05-15          12       maio\n",
            "5  2023-06-25           8      junho\n",
            "6  2023-07-05           5      julho\n",
            "7  2023-08-18          13     agosto\n",
            "8  2023-09-30           9   setembro\n",
            "9  2023-10-08           8    outubro\n",
            "10 2023-11-12           7   novembro\n",
            "11 2023-12-20          11   dezembro\n"
          ]
        }
      ],
      "source": [
        "# Plotagem de Gráfico com a quantidade de vendas por mês\n",
        "import matplotlib.pyplot as plt\n",
        "import matplotlib\n",
        "matplotlib.use('TkAgg')\n",
        "import seaborn as sns\n",
        "import locale\n",
        "\n",
        "locale.setlocale(locale.LC_TIME, 'pt_BR.UTF-8')\n",
        "\n",
        "# Convertendo a coluna data para datetime\n",
        "df_vendas['data'] = pd.to_datetime(df_vendas['data'])\n",
        "# Contando os dias de venda\n",
        "dias = df_vendas['data'].value_counts()\n",
        "# Somando a quantidade de vendas por dia\n",
        "vendas_mes = df_vendas.groupby('data')['quantidade'].sum().reset_index(name='quantidade')\n",
        "# Definindo os meses de acordo com as datas\n",
        "vendas_mes['mes'] = vendas_mes['data'].dt.strftime('%B')\n",
        "print(dias)\n",
        "print(vendas_mes)\n",
        "\n",
        "# Plotando os gráficos de vendas por mês\n",
        "plt.figure(figsize=(12, 6))\n",
        "sns.barplot(data=vendas_mes, x='mes', y='quantidade', color= 'xkcd:coral')\n",
        "plt.title('Quantidade de vendas por Mês')\n",
        "plt.xlabel('Meses')\n",
        "plt.ylabel('Quantidade Vendida')\n",
        "plt.xticks(rotation=45)\n",
        "plt.tight_layout()\n",
        "plt.show()"
      ]
    },
    {
      "cell_type": "markdown",
      "metadata": {
        "id": "w-JF08pUSpVi"
      },
      "source": [
        "## **Análise Estatística Inicial**"
      ]
    },
    {
      "cell_type": "code",
      "execution_count": 22,
      "metadata": {
        "id": "DLqDsWSuSt66"
      },
      "outputs": [
        {
          "name": "stdout",
          "output_type": "stream",
          "text": [
            "   id       data   produto  quantidade  preco_unitario  cliente_id\n",
            "0   1 2023-01-05  Banheira           2          2500.0         101\n",
            "1   2 2023-02-12    OfurÃ´           1          3000.0         113\n",
            "2   3 2023-03-20       Spa           3          5000.0         103\n",
            "3   4 2023-04-10  Banheira           1          2500.0         104\n",
            "4   5 2023-05-15    OfurÃ´           2          3000.0         105\n",
            "<class 'pandas.core.frame.DataFrame'>\n",
            "RangeIndex: 60 entries, 0 to 59\n",
            "Data columns (total 6 columns):\n",
            " #   Column          Non-Null Count  Dtype         \n",
            "---  ------          --------------  -----         \n",
            " 0   id              60 non-null     int64         \n",
            " 1   data            60 non-null     datetime64[ns]\n",
            " 2   produto         60 non-null     object        \n",
            " 3   quantidade      60 non-null     int64         \n",
            " 4   preco_unitario  60 non-null     float64       \n",
            " 5   cliente_id      60 non-null     int64         \n",
            "dtypes: datetime64[ns](1), float64(1), int64(3), object(1)\n",
            "memory usage: 2.9+ KB\n",
            "None\n",
            "              id                 data  quantidade  preco_unitario  cliente_id\n",
            "count  60.000000                   60   60.000000       60.000000   60.000000\n",
            "mean   30.500000  2023-06-30 12:00:00    1.833333     3500.000000  107.800000\n",
            "min     1.000000  2023-01-05 00:00:00    1.000000     2500.000000  101.000000\n",
            "25%    15.750000  2023-04-04 18:00:00    1.000000     2500.000000  104.000000\n",
            "50%    30.500000  2023-06-30 00:00:00    2.000000     3000.000000  108.000000\n",
            "75%    45.250000  2023-10-02 00:00:00    2.250000     5000.000000  112.000000\n",
            "max    60.000000  2023-12-20 00:00:00    3.000000     5000.000000  113.000000\n",
            "std    17.464249                  NaN    0.806051     1089.238577    4.111992\n",
            "produto\n",
            "Banheira    2500.0\n",
            "OfurÃ´      3000.0\n",
            "Spa         5000.0\n",
            "Name: preco_unitario, dtype: float64\n",
            "1\n",
            "3\n"
          ]
        }
      ],
      "source": [
        "# Calculando estatísticas de VENDAS\n",
        "print(df_vendas.head())\n",
        "print(df_vendas.info())\n",
        "print(df_vendas.describe())\n",
        "\n",
        "media_vendas = df_vendas.groupby('produto')['preco_unitario'].mean()\n",
        "print(media_vendas)\n",
        "\n",
        "print(df_vendas['quantidade'].min())\n",
        "print(df_vendas['quantidade'].max())\n"
      ]
    },
    {
      "cell_type": "code",
      "execution_count": 23,
      "metadata": {
        "id": "CKleDtzOTfsm"
      },
      "outputs": [
        {
          "name": "stdout",
          "output_type": "stream",
          "text": [
            "     id             nome  idade       sexo          cidade valor_gasto_total\n",
            "0   101   JoÃ£o da Silva   45.0  Masculino      SÃ£o Paulo              None\n",
            "1   102   Maria Oliveira   38.0   Feminino  Rio de Janeiro              None\n",
            "2   103     Carlos Souza   50.0  Masculino  Belo Horizonte              None\n",
            "3   104       Ana Santos   55.0   Feminino    Porto Alegre              None\n",
            "4   105      Pedro Costa   42.0  Masculino       BrasÃ­lia              None\n",
            "5   106    Sofia Pereira   48.0   Feminino          Recife              None\n",
            "6   107     JosÃ© Santos   60.0  Masculino        Salvador              None\n",
            "7   108       Paula Lima   36.0   Feminino       Fortaleza              None\n",
            "8   109    Luiz Oliveira   47.0  Masculino          Manaus              None\n",
            "9   110  Cristina Santos   52.0   Feminino        Curitiba              None\n",
            "10  111    Antonio Costa   40.0  Masculino           Natal              None\n",
            "11  112    Beatriz Silva   43.0   Feminino  FlorianÃ³polis              None\n",
            "12  113     Loja Propria    NaN       None         Limeira              None\n",
            "              id      idade\n",
            "count   13.00000  12.000000\n",
            "mean   107.00000  46.333333\n",
            "std      3.89444   7.126561\n",
            "min    101.00000  36.000000\n",
            "25%    104.00000  41.500000\n",
            "50%    107.00000  46.000000\n",
            "75%    110.00000  50.500000\n",
            "max    113.00000  60.000000\n",
            "<class 'pandas.core.frame.DataFrame'>\n",
            "RangeIndex: 13 entries, 0 to 12\n",
            "Data columns (total 6 columns):\n",
            " #   Column             Non-Null Count  Dtype  \n",
            "---  ------             --------------  -----  \n",
            " 0   id                 13 non-null     int64  \n",
            " 1   nome               13 non-null     object \n",
            " 2   idade              12 non-null     float64\n",
            " 3   sexo               12 non-null     object \n",
            " 4   cidade             13 non-null     object \n",
            " 5   valor_gasto_total  0 non-null      object \n",
            "dtypes: float64(1), int64(1), object(4)\n",
            "memory usage: 756.0+ bytes\n",
            "None\n",
            "36.0\n",
            "60.0\n"
          ]
        }
      ],
      "source": [
        "# Calculando estatísticas de CLIENTES\n",
        "print(df_cliente)\n",
        "print(df_cliente.describe())\n",
        "print(df_cliente.info())\n",
        "\n",
        "print(df_cliente['idade'].min())\n",
        "print(df_cliente['idade'].max())"
      ]
    },
    {
      "cell_type": "code",
      "execution_count": 24,
      "metadata": {
        "id": "Tvs2ryfOTxZt"
      },
      "outputs": [
        {
          "name": "stdout",
          "output_type": "stream",
          "text": [
            "    produto vendas_totais receita_total\n",
            "0  Banheira          None          None\n",
            "1    OfurÃ´          None          None\n",
            "2       Spa          None          None\n",
            "         produto vendas_totais receita_total\n",
            "count          3             0             0\n",
            "unique         3             0             0\n",
            "top     Banheira           NaN           NaN\n",
            "freq           1           NaN           NaN\n",
            "<class 'pandas.core.frame.DataFrame'>\n",
            "RangeIndex: 3 entries, 0 to 2\n",
            "Data columns (total 3 columns):\n",
            " #   Column         Non-Null Count  Dtype \n",
            "---  ------         --------------  ----- \n",
            " 0   produto        3 non-null      object\n",
            " 1   vendas_totais  0 non-null      object\n",
            " 2   receita_total  0 non-null      object\n",
            "dtypes: object(3)\n",
            "memory usage: 204.0+ bytes\n",
            "None\n"
          ]
        }
      ],
      "source": [
        "# Calculando estatísticas de PRODUTOS\n",
        "print(df_produto)\n",
        "print(df_produto.describe())\n",
        "print(df_produto.info())\n"
      ]
    },
    {
      "cell_type": "markdown",
      "metadata": {
        "id": "RD88MGk7UXeH"
      },
      "source": [
        "## **Análise de Produtos**"
      ]
    },
    {
      "cell_type": "code",
      "execution_count": 79,
      "metadata": {
        "id": "i2sHTUtwUcOp"
      },
      "outputs": [
        {
          "name": "stdout",
          "output_type": "stream",
          "text": [
            "   id       data   produto  quantidade  preco_unitario  cliente_id  \\\n",
            "0   1 2023-01-05  Banheira           2          2500.0         101   \n",
            "1   2 2023-02-12    OfurÃ´           1          3000.0         113   \n",
            "2   3 2023-03-20       Spa           3          5000.0         103   \n",
            "3   4 2023-04-10  Banheira           1          2500.0         104   \n",
            "4   5 2023-05-15    OfurÃ´           2          3000.0         105   \n",
            "\n",
            "   preco_total  \n",
            "0       5000.0  \n",
            "1       3000.0  \n",
            "2      15000.0  \n",
            "3       2500.0  \n",
            "4       6000.0  \n",
            "    produto  quantidade\n",
            "0  Banheira          32\n",
            "1    OfurÃ´          41\n",
            "2       Spa          37\n",
            "    produto  receita_total\n",
            "0  Banheira        80000.0\n",
            "1    OfurÃ´       123000.0\n",
            "2       Spa       185000.0\n",
            "    produto  vendas_totais  receita_total\n",
            "0  Banheira             32        80000.0\n",
            "1    OfurÃ´             41       123000.0\n",
            "2       Spa             37       185000.0\n"
          ]
        }
      ],
      "source": [
        "print(df_vendas.head())\n",
        "\n",
        "# Calculando a quantidade de produtos vendidos\n",
        "mais_vendidos = df_vendas.groupby('produto')['quantidade'].sum().reset_index(name= 'quantidade')\n",
        "print(mais_vendidos)\n",
        "\n",
        "# Calculando a receita total de cada produto\n",
        "df_vendas['preco_total'] = df_vendas['quantidade'] * df_vendas['preco_unitario']\n",
        "receita_total = df_vendas.groupby('produto')['preco_total'].sum().reset_index(name= 'receita_total')\n",
        "print(receita_total)\n",
        "\n",
        "# Definindo os valores nulos do df_produto\n",
        "df_produto['receita_total'] = receita_total['receita_total']\n",
        "df_produto['vendas_totais'] = mais_vendidos['quantidade']\n",
        "\n",
        "print(df_produto)\n",
        "\n",
        "# Plotando o gráfico de barras de produtos vendidos\n",
        "plt.figure(figsize=(12, 6))\n",
        "sns.barplot(data=mais_vendidos, x='produto', y='quantidade', color=\"xkcd:coral\")\n",
        "plt.title('Quantidade de Produtos Vendidos')\n",
        "plt.xlabel('Produto')\n",
        "plt.ylabel('Quantidade Vendida')\n",
        "plt.tight_layout()\n",
        "plt.show()\n",
        "\n",
        "# Plotando o gráfico de pizza da receita total dos produtos\n",
        "plt.figure(figsize=(12, 6))\n",
        "plt.title('Receita total dos Produtos')\n",
        "colors = sns.color_palette('pastel')\n",
        "plt.pie(receita_total['receita_total'],labels= receita_total['produto'], colors=colors, autopct='%.0f%%')\n",
        "plt.tight_layout()\n",
        "plt.show()\n"
      ]
    },
    {
      "cell_type": "markdown",
      "metadata": {},
      "source": [
        "## **Análise Temporal**"
      ]
    },
    {
      "cell_type": "code",
      "execution_count": null,
      "metadata": {},
      "outputs": [],
      "source": [
        "# Análise das quantidade vendidas ao longo do tempo\n",
        "print(df_vendas)\n",
        "quant_vendida_mes = df_vendas.groupby('data')['produto'].value_counts().reset_index(name= 'quant')\n",
        "print(quant_vendida_mes)\n",
        "quant_vendida_mes['mes'] = quant_vendida_mes['data'].dt.strftime('%B')\n",
        "sns.set_theme(style=\"dark\")\n",
        "sns.lineplot(data=quant_vendida_mes, x=\"mes\", y=\"quant\")\n",
        "plt.xlabel('Data')\n",
        "plt.ylabel('Quantidade Vendida')\n",
        "plt.title('Quantidade de vendas ao longos dos meses de 2023')\n",
        "plt.show()"
      ]
    },
    {
      "cell_type": "code",
      "execution_count": 91,
      "metadata": {},
      "outputs": [
        {
          "name": "stdout",
          "output_type": "stream",
          "text": [
            "   id       data   produto  quantidade  preco_unitario  cliente_id  \\\n",
            "0   1 2023-01-05  Banheira           2          2500.0         101   \n",
            "1   2 2023-02-12    OfurÃ´           1          3000.0         113   \n",
            "2   3 2023-03-20       Spa           3          5000.0         103   \n",
            "3   4 2023-04-10  Banheira           1          2500.0         104   \n",
            "4   5 2023-05-15    OfurÃ´           2          3000.0         105   \n",
            "\n",
            "   preco_total  \n",
            "0       5000.0  \n",
            "1       3000.0  \n",
            "2      15000.0  \n",
            "3       2500.0  \n",
            "4       6000.0  \n",
            "    produto  quantidade\n",
            "0  Banheira          32\n",
            "1    OfurÃ´          41\n",
            "2       Spa          37\n",
            "    produto  receita_total\n",
            "0  Banheira        80000.0\n",
            "1    OfurÃ´       123000.0\n",
            "2       Spa       185000.0\n",
            "    produto  vendas_totais  receita_total\n",
            "0  Banheira             32        80000.0\n",
            "1    OfurÃ´             41       123000.0\n",
            "2       Spa             37       185000.0\n"
          ]
        }
      ],
      "source": [
        "import numpy as np\n",
        "\n",
        "print(df_vendas.head())\n",
        "\n",
        "# Calculando a quantidade de produtos vendidos\n",
        "mais_vendidos = (\n",
        "    df_vendas.groupby(\"produto\")[\"quantidade\"].sum().reset_index(name=\"quantidade\")\n",
        ")\n",
        "\n",
        "print(mais_vendidos)\n",
        "\n",
        "\n",
        "# Calculando a receita total de cada produto\n",
        "df_vendas[\"preco_total\"] = df_vendas[\"quantidade\"] * df_vendas[\"preco_unitario\"]\n",
        "receita_total = (\n",
        "    df_vendas.groupby(\"produto\")[\"preco_total\"].sum().reset_index(name=\"receita_total\")\n",
        ")\n",
        "print(receita_total)\n",
        "\n",
        "\n",
        "# Definindo os valores nulos do df_produto\n",
        "df_produto[\"receita_total\"] = receita_total[\"receita_total\"]\n",
        "\n",
        "df_produto[\"vendas_totais\"] = mais_vendidos[\"quantidade\"]\n",
        "\n",
        "print(df_produto)\n",
        "\n",
        "\n",
        "# Plotando o gráfico de barras de produtos vendidos\n",
        "plt.figure(figsize=(7, 5))\n",
        "\n",
        "grafico_produto_vend = sns.barplot(data=mais_vendidos, x=\"produto\", y=\"quantidade\", color=\"xkcd:coral\")\n",
        "plt.title(\"Quantidade de Produtos Vendidos\")\n",
        "\n",
        "plt.xlabel(\"Produto\")\n",
        "\n",
        "plt.ylabel(\"Quantidade Vendida\")\n",
        "\n",
        "grafico_produto_vend.bar_label(grafico_produto_vend.containers[0])\n",
        "\n",
        "plt.tight_layout()\n",
        "\n",
        "plt.show()\n",
        "\n",
        "\n",
        "# Plotando o gráfico de pizza da receita total dos produtos\n",
        "colors = sns.color_palette(\"pastel\")\n",
        "\n",
        "# Definindo a tamanho da explosão\n",
        "explode = (0.02, 0.02, 0.02)\n",
        "\n",
        "# Criando função para formatar a legenda interna\n",
        "def func(pct, allvalues):\n",
        "    absolute = int(pct / 100.0 * np.sum(allvalues))\n",
        "    return \" {:.1f}%\\n(R${:d})\".format(pct, absolute)\n",
        "\n",
        "# Configs do grafico de pizza\n",
        "fig, ax = plt.subplots(figsize=(6, 6))\n",
        "wedges, texts, autotexts = ax.pie(\n",
        "    receita_total[\"receita_total\"],\n",
        "    autopct=lambda pct: func(pct, receita_total[\"receita_total\"]),\n",
        "    labels=receita_total[\"produto\"],\n",
        "    explode = explode,\n",
        "    colors=colors,\n",
        "    textprops=dict(color=\"black\"),\n",
        ")\n",
        "\n",
        "# Definindo a legenda\n",
        "ax.legend(\n",
        "    wedges,\n",
        "    receita_total[\"produto\"],\n",
        "    title=\"Produtos\",\n",
        "    loc=\"center right\",\n",
        "    bbox_to_anchor=(1, 0, 1, 1),\n",
        ")\n",
        "\n",
        "# Font\n",
        "plt.setp(autotexts, size=7, weight=\"regular\")\n",
        "\n",
        "# Titulo\n",
        "ax.set_title(\"Receita total dos Produtos\")\n",
        "\n",
        "plt.show()"
      ]
    },
    {
      "cell_type": "code",
      "execution_count": 82,
      "metadata": {},
      "outputs": [
        {
          "name": "stdout",
          "output_type": "stream",
          "text": [
            "         data   vendas\n",
            "0  2023-01-05  30000.0\n",
            "1  2023-02-12  27000.0\n",
            "2  2023-03-20  45000.0\n",
            "3  2023-04-10  17500.0\n",
            "4  2023-05-15  36000.0\n",
            "5  2023-06-25  40000.0\n",
            "6  2023-07-05  12500.0\n",
            "7  2023-08-18  39000.0\n",
            "8  2023-09-30  45000.0\n",
            "9  2023-10-08  20000.0\n",
            "10 2023-11-12  21000.0\n",
            "11 2023-12-20  55000.0\n"
          ]
        },
        {
          "name": "stderr",
          "output_type": "stream",
          "text": [
            "c:\\Users\\DevTarde\\AppData\\Local\\Programs\\Python\\Python312\\Lib\\site-packages\\seaborn\\_oldcore.py:1119: FutureWarning: use_inf_as_na option is deprecated and will be removed in a future version. Convert inf values to NaN before operating instead.\n",
            "  with pd.option_context('mode.use_inf_as_na', True):\n",
            "c:\\Users\\DevTarde\\AppData\\Local\\Programs\\Python\\Python312\\Lib\\site-packages\\seaborn\\_oldcore.py:1119: FutureWarning: use_inf_as_na option is deprecated and will be removed in a future version. Convert inf values to NaN before operating instead.\n",
            "  with pd.option_context('mode.use_inf_as_na', True):\n"
          ]
        }
      ],
      "source": [
        "# Receita por mês [TOTAL DOS PRODUTOS]\n",
        "money = df_vendas.groupby('data')['preco_total'].sum().reset_index(name= 'vendas')\n",
        "print(money)\n",
        "# Plotando o gráfico de linha de receita x mês\n",
        "money['mes'] = money['data'].dt.strftime('%B')\n",
        "sns.set_theme(style=\"dark\")\n",
        "sns.lineplot(data=money, x=\"mes\", y=\"vendas\")\n",
        "vendas_mes['mes'] = vendas_mes['data'].dt.strftime('%B')\n",
        "plt.xlabel('Data')\n",
        "plt.ylabel('Faturamento')\n",
        "plt.title('Faturamento ao longo dos meses de 2023')\n",
        "plt.show()"
      ]
    },
    {
      "cell_type": "markdown",
      "metadata": {},
      "source": [
        "## **Análise de Clientes**"
      ]
    },
    {
      "cell_type": "code",
      "execution_count": 83,
      "metadata": {},
      "outputs": [
        {
          "name": "stdout",
          "output_type": "stream",
          "text": [
            "    cliente_id  gasto_cliente\n",
            "0          101        25000.0\n",
            "1          102        24000.0\n",
            "2          103        45000.0\n",
            "3          104        12500.0\n",
            "4          105        27000.0\n",
            "5          106        40000.0\n",
            "6          107         5000.0\n",
            "7          108        39000.0\n",
            "8          109        45000.0\n",
            "9          110         7500.0\n",
            "10         111        15000.0\n",
            "11         112        55000.0\n",
            "12         113        48000.0\n",
            "     id             nome  idade       sexo          cidade  valor_gasto_total\n",
            "0   101   JoÃ£o da Silva   45.0  Masculino      SÃ£o Paulo            25000.0\n",
            "1   102   Maria Oliveira   38.0   Feminino  Rio de Janeiro            24000.0\n",
            "2   103     Carlos Souza   50.0  Masculino  Belo Horizonte            45000.0\n",
            "3   104       Ana Santos   55.0   Feminino    Porto Alegre            12500.0\n",
            "4   105      Pedro Costa   42.0  Masculino       BrasÃ­lia            27000.0\n",
            "5   106    Sofia Pereira   48.0   Feminino          Recife            40000.0\n",
            "6   107     JosÃ© Santos   60.0  Masculino        Salvador             5000.0\n",
            "7   108       Paula Lima   36.0   Feminino       Fortaleza            39000.0\n",
            "8   109    Luiz Oliveira   47.0  Masculino          Manaus            45000.0\n",
            "9   110  Cristina Santos   52.0   Feminino        Curitiba             7500.0\n",
            "10  111    Antonio Costa   40.0  Masculino           Natal            15000.0\n",
            "11  112    Beatriz Silva   43.0   Feminino  FlorianÃ³polis            55000.0\n",
            "12  113     Loja Propria    NaN       None         Limeira            48000.0\n"
          ]
        }
      ],
      "source": [
        "import seaborn as sns\n",
        "# Calculo do gasto total de cada cliente\n",
        "gasto_cliente = df_vendas.groupby('cliente_id')['preco_total'].sum().reset_index(name='gasto_cliente')\n",
        "print(gasto_cliente)\n",
        "\n",
        "df_merged = pd.merge(df_vendas, df_cliente, left_on='cliente_id', right_on='id', how='left')\n",
        "\n",
        "# DataFrame df_cliente atualizada com os totais gastos por cada cliente\n",
        "df_cliente['valor_gasto_total'] = gasto_cliente['gasto_cliente']\n",
        "print(df_cliente)\n",
        "cliente = df_cliente['nome']\n",
        "gastos = df_cliente['valor_gasto_total']\n",
        "cidade = df_cliente['cidade']\n",
        "sns.set_theme(style=\"whitegrid\")\n",
        "cmap = sns.cubehelix_palette(rot=-.2, as_cmap=True)\n",
        "g = sns.relplot(\n",
        "    data=df_cliente,\n",
        "    x=\"cidade\", y=\"nome\",\n",
        "    hue=\"valor_gasto_total\", size=\"valor_gasto_total\",\n",
        "    palette=cmap, sizes=(10, 200),\n",
        ")\n",
        "g.despine(left=True, bottom=True)\n",
        "plt.xticks(rotation=45)\n",
        "plt.show()"
      ]
    },
    {
      "cell_type": "code",
      "execution_count": 84,
      "metadata": {},
      "outputs": [
        {
          "name": "stdout",
          "output_type": "stream",
          "text": [
            "    cliente_id             nome  frequencia\n",
            "0          101   JoÃ£o da Silva           4\n",
            "1          102   Maria Oliveira           4\n",
            "2          103     Carlos Souza           5\n",
            "3          104       Ana Santos           3\n",
            "4          105      Pedro Costa           4\n",
            "5          106    Sofia Pereira           5\n",
            "6          107     JosÃ© Santos           2\n",
            "7          108       Paula Lima           5\n",
            "8          109    Luiz Oliveira           5\n",
            "9          110  Cristina Santos           2\n",
            "10         111    Antonio Costa           4\n",
            "11         112    Beatriz Silva           5\n",
            "12         113     Loja Propria          12\n"
          ]
        }
      ],
      "source": [
        "# Calcular a frequência de compra de cada cliente\n",
        "frequencia_compra = df_merged.groupby(['cliente_id', 'nome']).size().reset_index(name='frequencia')\n",
        "print(frequencia_compra)\n",
        "sns.barplot(data=frequencia_compra, x='nome', y='frequencia')\n",
        "plt.xlabel('Nome do Cliente')\n",
        "plt.ylabel('Frequência de Compra')\n",
        "plt.title('Histograma da Frequência de Compra por Cliente')\n",
        "plt.xticks(rotation=30)\n",
        "plt.show()"
      ]
    },
    {
      "cell_type": "markdown",
      "metadata": {},
      "source": [
        "## **Análise de Preços** "
      ]
    },
    {
      "cell_type": "code",
      "execution_count": 85,
      "metadata": {},
      "outputs": [
        {
          "name": "stdout",
          "output_type": "stream",
          "text": [
            "    produto   media\n",
            "0  Banheira  2500.0\n",
            "1    OfurÃ´  3000.0\n",
            "2       Spa  5000.0\n"
          ]
        }
      ],
      "source": [
        "preco_medio_produtos = df_vendas.groupby('produto')['preco_unitario'].mean().reset_index(name ='media')\n",
        "print(preco_medio_produtos)\n",
        "\n",
        "sns.boxplot(data=preco_medio_produtos, x=\"produto\", y=\"media\")\n",
        "plt.title(\"Análise do Preço dos Produtos\")\n",
        "plt.xlabel('Produto')\n",
        "plt.ylabel('Preço')\n",
        "plt.show()\n"
      ]
    },
    {
      "cell_type": "markdown",
      "metadata": {},
      "source": [
        "## **CONCLUSÃO**"
      ]
    },
    {
      "cell_type": "code",
      "execution_count": 76,
      "metadata": {},
      "outputs": [
        {
          "name": "stdout",
          "output_type": "stream",
          "text": [
            "   id       data   produto  quantidade  preco_unitario  cliente_id  \\\n",
            "0   1 2023-01-05  Banheira           2          2500.0         101   \n",
            "1   2 2023-02-12    OfurÃ´           1          3000.0         113   \n",
            "2   3 2023-03-20       Spa           3          5000.0         103   \n",
            "3   4 2023-04-10  Banheira           1          2500.0         104   \n",
            "4   5 2023-05-15    OfurÃ´           2          3000.0         105   \n",
            "\n",
            "   preco_total  \n",
            "0       5000.0  \n",
            "1       3000.0  \n",
            "2      15000.0  \n",
            "3       2500.0  \n",
            "4       6000.0  \n",
            "    id            nome  idade       sexo          cidade  valor_gasto_total\n",
            "0  101  JoÃ£o da Silva   45.0  Masculino      SÃ£o Paulo            25000.0\n",
            "1  102  Maria Oliveira   38.0   Feminino  Rio de Janeiro            24000.0\n",
            "2  103    Carlos Souza   50.0  Masculino  Belo Horizonte            45000.0\n",
            "3  104      Ana Santos   55.0   Feminino    Porto Alegre            12500.0\n",
            "4  105     Pedro Costa   42.0  Masculino       BrasÃ­lia            27000.0\n",
            "    produto  vendas_totais  receita_total\n",
            "0  Banheira             32        80000.0\n",
            "1    OfurÃ´             41       123000.0\n",
            "2       Spa             37       185000.0\n"
          ]
        }
      ],
      "source": [
        "print(df_vendas.head())\n",
        "\n",
        "print(df_cliente.head())\n",
        "\n",
        "print(df_produto.head())"
      ]
    },
    {
      "cell_type": "code",
      "execution_count": null,
      "metadata": {},
      "outputs": [],
      "source": [
        "pip install iPython"
      ]
    },
    {
      "cell_type": "code",
      "execution_count": 73,
      "metadata": {},
      "outputs": [],
      "source": [
        "from IPython.display import Image, display"
      ]
    },
    {
      "cell_type": "code",
      "execution_count": null,
      "metadata": {},
      "outputs": [],
      "source": [
        "# Análise da quantidade de vendas por mês"
      ]
    },
    {
      "cell_type": "code",
      "execution_count": null,
      "metadata": {},
      "outputs": [],
      "source": [
        "# Análise do preço dos produtos"
      ]
    },
    {
      "cell_type": "code",
      "execution_count": null,
      "metadata": {},
      "outputs": [],
      "source": [
        "# Análise do faturamento por mês"
      ]
    },
    {
      "cell_type": "code",
      "execution_count": null,
      "metadata": {},
      "outputs": [],
      "source": [
        "# Análise da frequência de compras de cada cliente\n",
        "display(Image(filename='graphic_frequency.png'))"
      ]
    }
  ],
  "metadata": {
    "colab": {
      "collapsed_sections": [
        "_cxfugSUSfV7"
      ],
      "provenance": []
    },
    "kernelspec": {
      "display_name": "Python 3",
      "name": "python3"
    },
    "language_info": {
      "codemirror_mode": {
        "name": "ipython",
        "version": 3
      },
      "file_extension": ".py",
      "mimetype": "text/x-python",
      "name": "python",
      "nbconvert_exporter": "python",
      "pygments_lexer": "ipython3",
      "version": "3.12.1"
    }
  },
  "nbformat": 4,
  "nbformat_minor": 0
}
