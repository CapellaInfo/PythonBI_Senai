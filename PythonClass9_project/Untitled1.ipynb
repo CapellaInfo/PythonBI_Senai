{
  "cells": [
    {
      "cell_type": "markdown",
      "metadata": {
        "id": "N0tb-FT5TR_k"
      },
      "source": [
        "# **ANÁLISE DE VENDAS**"
      ]
    },
    {
      "cell_type": "markdown",
      "metadata": {
        "id": "_cxfugSUSfV7"
      },
      "source": [
        "## **Leitura e Visualização Inicial**"
      ]
    },
    {
      "cell_type": "code",
      "execution_count": 2,
      "metadata": {
        "id": "S48IkRv3T-jM"
      },
      "outputs": [
        {
          "name": "stdout",
          "output_type": "stream",
          "text": [
            "Requirement already satisfied: ydata-profiling in c:\\users\\rafael moura\\appdata\\local\\programs\\python\\python311\\lib\\site-packages (4.7.0)\n",
            "Requirement already satisfied: scipy<1.12,>=1.4.1 in c:\\users\\rafael moura\\appdata\\local\\programs\\python\\python311\\lib\\site-packages (from ydata-profiling) (1.11.4)\n",
            "Requirement already satisfied: pandas!=1.4.0,<3,>1.1 in c:\\users\\rafael moura\\appdata\\local\\programs\\python\\python311\\lib\\site-packages (from ydata-profiling) (2.2.1)\n",
            "Requirement already satisfied: matplotlib<3.9,>=3.2 in c:\\users\\rafael moura\\appdata\\local\\programs\\python\\python311\\lib\\site-packages (from ydata-profiling) (3.8.3)\n",
            "Requirement already satisfied: pydantic>=2 in c:\\users\\rafael moura\\appdata\\local\\programs\\python\\python311\\lib\\site-packages (from ydata-profiling) (2.6.4)\n",
            "Requirement already satisfied: PyYAML<6.1,>=5.0.0 in c:\\users\\rafael moura\\appdata\\local\\programs\\python\\python311\\lib\\site-packages (from ydata-profiling) (6.0.1)\n",
            "Requirement already satisfied: jinja2<3.2,>=2.11.1 in c:\\users\\rafael moura\\appdata\\local\\programs\\python\\python311\\lib\\site-packages (from ydata-profiling) (3.1.3)\n",
            "Requirement already satisfied: visions[type_image_path]<0.7.7,>=0.7.5 in c:\\users\\rafael moura\\appdata\\local\\programs\\python\\python311\\lib\\site-packages (from ydata-profiling) (0.7.6)\n",
            "Requirement already satisfied: numpy<2,>=1.16.0 in c:\\users\\rafael moura\\appdata\\local\\programs\\python\\python311\\lib\\site-packages (from ydata-profiling) (1.26.2)\n",
            "Requirement already satisfied: htmlmin==0.1.12 in c:\\users\\rafael moura\\appdata\\local\\programs\\python\\python311\\lib\\site-packages (from ydata-profiling) (0.1.12)\n",
            "Requirement already satisfied: phik<0.13,>=0.11.1 in c:\\users\\rafael moura\\appdata\\local\\programs\\python\\python311\\lib\\site-packages (from ydata-profiling) (0.12.4)\n",
            "Requirement already satisfied: requests<3,>=2.24.0 in c:\\users\\rafael moura\\appdata\\local\\programs\\python\\python311\\lib\\site-packages (from ydata-profiling) (2.31.0)\n",
            "Requirement already satisfied: tqdm<5,>=4.48.2 in c:\\users\\rafael moura\\appdata\\local\\programs\\python\\python311\\lib\\site-packages (from ydata-profiling) (4.66.2)\n",
            "Requirement already satisfied: seaborn<0.13,>=0.10.1 in c:\\users\\rafael moura\\appdata\\local\\programs\\python\\python311\\lib\\site-packages (from ydata-profiling) (0.12.2)\n",
            "Requirement already satisfied: multimethod<2,>=1.4 in c:\\users\\rafael moura\\appdata\\local\\programs\\python\\python311\\lib\\site-packages (from ydata-profiling) (1.11.2)\n",
            "Requirement already satisfied: statsmodels<1,>=0.13.2 in c:\\users\\rafael moura\\appdata\\local\\programs\\python\\python311\\lib\\site-packages (from ydata-profiling) (0.14.1)\n",
            "Requirement already satisfied: typeguard<5,>=4.1.2 in c:\\users\\rafael moura\\appdata\\local\\programs\\python\\python311\\lib\\site-packages (from ydata-profiling) (4.1.5)\n",
            "Requirement already satisfied: imagehash==4.3.1 in c:\\users\\rafael moura\\appdata\\local\\programs\\python\\python311\\lib\\site-packages (from ydata-profiling) (4.3.1)\n",
            "Requirement already satisfied: wordcloud>=1.9.1 in c:\\users\\rafael moura\\appdata\\local\\programs\\python\\python311\\lib\\site-packages (from ydata-profiling) (1.9.3)\n",
            "Requirement already satisfied: dacite>=1.8 in c:\\users\\rafael moura\\appdata\\local\\programs\\python\\python311\\lib\\site-packages (from ydata-profiling) (1.8.1)\n",
            "Requirement already satisfied: numba<1,>=0.56.0 in c:\\users\\rafael moura\\appdata\\local\\programs\\python\\python311\\lib\\site-packages (from ydata-profiling) (0.59.1)\n",
            "Requirement already satisfied: PyWavelets in c:\\users\\rafael moura\\appdata\\local\\programs\\python\\python311\\lib\\site-packages (from imagehash==4.3.1->ydata-profiling) (1.5.0)\n",
            "Requirement already satisfied: pillow in c:\\users\\rafael moura\\appdata\\local\\programs\\python\\python311\\lib\\site-packages (from imagehash==4.3.1->ydata-profiling) (10.2.0)\n",
            "Requirement already satisfied: MarkupSafe>=2.0 in c:\\users\\rafael moura\\appdata\\local\\programs\\python\\python311\\lib\\site-packages (from jinja2<3.2,>=2.11.1->ydata-profiling) (2.1.3)\n",
            "Requirement already satisfied: contourpy>=1.0.1 in c:\\users\\rafael moura\\appdata\\local\\programs\\python\\python311\\lib\\site-packages (from matplotlib<3.9,>=3.2->ydata-profiling) (1.2.0)\n",
            "Requirement already satisfied: cycler>=0.10 in c:\\users\\rafael moura\\appdata\\local\\programs\\python\\python311\\lib\\site-packages (from matplotlib<3.9,>=3.2->ydata-profiling) (0.12.1)\n",
            "Requirement already satisfied: fonttools>=4.22.0 in c:\\users\\rafael moura\\appdata\\local\\programs\\python\\python311\\lib\\site-packages (from matplotlib<3.9,>=3.2->ydata-profiling) (4.50.0)\n",
            "Requirement already satisfied: kiwisolver>=1.3.1 in c:\\users\\rafael moura\\appdata\\local\\programs\\python\\python311\\lib\\site-packages (from matplotlib<3.9,>=3.2->ydata-profiling) (1.4.5)\n",
            "Requirement already satisfied: packaging>=20.0 in c:\\users\\rafael moura\\appdata\\roaming\\python\\python311\\site-packages (from matplotlib<3.9,>=3.2->ydata-profiling) (23.1)\n",
            "Requirement already satisfied: pyparsing>=2.3.1 in c:\\users\\rafael moura\\appdata\\local\\programs\\python\\python311\\lib\\site-packages (from matplotlib<3.9,>=3.2->ydata-profiling) (3.1.2)\n",
            "Requirement already satisfied: python-dateutil>=2.7 in c:\\users\\rafael moura\\appdata\\roaming\\python\\python311\\site-packages (from matplotlib<3.9,>=3.2->ydata-profiling) (2.8.2)\n",
            "Requirement already satisfied: llvmlite<0.43,>=0.42.0dev0 in c:\\users\\rafael moura\\appdata\\local\\programs\\python\\python311\\lib\\site-packages (from numba<1,>=0.56.0->ydata-profiling) (0.42.0)\n",
            "Requirement already satisfied: pytz>=2020.1 in c:\\users\\rafael moura\\appdata\\local\\programs\\python\\python311\\lib\\site-packages (from pandas!=1.4.0,<3,>1.1->ydata-profiling) (2024.1)\n",
            "Requirement already satisfied: tzdata>=2022.7 in c:\\users\\rafael moura\\appdata\\local\\programs\\python\\python311\\lib\\site-packages (from pandas!=1.4.0,<3,>1.1->ydata-profiling) (2024.1)\n",
            "Requirement already satisfied: joblib>=0.14.1 in c:\\users\\rafael moura\\appdata\\local\\programs\\python\\python311\\lib\\site-packages (from phik<0.13,>=0.11.1->ydata-profiling) (1.3.2)\n",
            "Requirement already satisfied: annotated-types>=0.4.0 in c:\\users\\rafael moura\\appdata\\local\\programs\\python\\python311\\lib\\site-packages (from pydantic>=2->ydata-profiling) (0.6.0)\n",
            "Requirement already satisfied: pydantic-core==2.16.3 in c:\\users\\rafael moura\\appdata\\local\\programs\\python\\python311\\lib\\site-packages (from pydantic>=2->ydata-profiling) (2.16.3)\n",
            "Requirement already satisfied: typing-extensions>=4.6.1 in c:\\users\\rafael moura\\appdata\\local\\programs\\python\\python311\\lib\\site-packages (from pydantic>=2->ydata-profiling) (4.9.0)\n",
            "Requirement already satisfied: charset-normalizer<4,>=2 in c:\\users\\rafael moura\\appdata\\local\\programs\\python\\python311\\lib\\site-packages (from requests<3,>=2.24.0->ydata-profiling) (3.3.2)\n",
            "Requirement already satisfied: idna<4,>=2.5 in c:\\users\\rafael moura\\appdata\\local\\programs\\python\\python311\\lib\\site-packages (from requests<3,>=2.24.0->ydata-profiling) (3.6)\n",
            "Requirement already satisfied: urllib3<3,>=1.21.1 in c:\\users\\rafael moura\\appdata\\local\\programs\\python\\python311\\lib\\site-packages (from requests<3,>=2.24.0->ydata-profiling) (2.1.0)\n",
            "Requirement already satisfied: certifi>=2017.4.17 in c:\\users\\rafael moura\\appdata\\local\\programs\\python\\python311\\lib\\site-packages (from requests<3,>=2.24.0->ydata-profiling) (2023.11.17)\n",
            "Requirement already satisfied: patsy>=0.5.4 in c:\\users\\rafael moura\\appdata\\local\\programs\\python\\python311\\lib\\site-packages (from statsmodels<1,>=0.13.2->ydata-profiling) (0.5.6)\n",
            "Requirement already satisfied: colorama in c:\\users\\rafael moura\\appdata\\roaming\\python\\python311\\site-packages (from tqdm<5,>=4.48.2->ydata-profiling) (0.4.6)\n",
            "Requirement already satisfied: attrs>=19.3.0 in c:\\users\\rafael moura\\appdata\\local\\programs\\python\\python311\\lib\\site-packages (from visions[type_image_path]<0.7.7,>=0.7.5->ydata-profiling) (23.2.0)\n",
            "Requirement already satisfied: networkx>=2.4 in c:\\users\\rafael moura\\appdata\\local\\programs\\python\\python311\\lib\\site-packages (from visions[type_image_path]<0.7.7,>=0.7.5->ydata-profiling) (3.2.1)\n",
            "Requirement already satisfied: six in c:\\users\\rafael moura\\appdata\\roaming\\python\\python311\\site-packages (from patsy>=0.5.4->statsmodels<1,>=0.13.2->ydata-profiling) (1.16.0)\n"
          ]
        },
        {
          "name": "stderr",
          "output_type": "stream",
          "text": [
            "\n",
            "[notice] A new release of pip is available: 23.1.2 -> 24.0\n",
            "[notice] To update, run: python.exe -m pip install --upgrade pip\n"
          ]
        }
      ],
      "source": [
        "!pip install ydata-profiling"
      ]
    },
    {
      "cell_type": "code",
      "execution_count": 3,
      "metadata": {
        "id": "bP1RPWNqUGjT"
      },
      "outputs": [
        {
          "name": "stderr",
          "output_type": "stream",
          "text": [
            "c:\\Users\\Rafael Moura\\AppData\\Local\\Programs\\Python\\Python311\\Lib\\site-packages\\tqdm\\auto.py:21: TqdmWarning: IProgress not found. Please update jupyter and ipywidgets. See https://ipywidgets.readthedocs.io/en/stable/user_install.html\n",
            "  from .autonotebook import tqdm as notebook_tqdm\n"
          ]
        }
      ],
      "source": [
        "from ydata_profiling import ProfileReport"
      ]
    },
    {
      "cell_type": "code",
      "execution_count": 4,
      "metadata": {
        "id": "Raw4IUVvUKAM"
      },
      "outputs": [
        {
          "name": "stdout",
          "output_type": "stream",
          "text": [
            "Requirement already satisfied: Pillow in c:\\users\\rafael moura\\appdata\\local\\programs\\python\\python311\\lib\\site-packages (10.2.0)\n"
          ]
        },
        {
          "name": "stderr",
          "output_type": "stream",
          "text": [
            "\n",
            "[notice] A new release of pip is available: 23.1.2 -> 24.0\n",
            "[notice] To update, run: python.exe -m pip install --upgrade pip\n"
          ]
        }
      ],
      "source": [
        "!pip install --upgrade Pillow"
      ]
    },
    {
      "cell_type": "code",
      "execution_count": 5,
      "metadata": {
        "id": "6zvg-37NTOrr"
      },
      "outputs": [],
      "source": [
        "import pandas as pd\n",
        "import yaml\n",
        "\n",
        "# Carregar os dados dos funcionários a partir do arquivo YAML\n",
        "with open('empresa.yaml', 'r') as file:\n",
        "    dados = yaml.safe_load(file)"
      ]
    },
    {
      "cell_type": "code",
      "execution_count": 6,
      "metadata": {
        "id": "T3DbGMcVaHmO"
      },
      "outputs": [
        {
          "name": "stdout",
          "output_type": "stream",
          "text": [
            "              id  quantidade  preco_unitario  cliente_id\n",
            "count  60.000000   60.000000       60.000000   60.000000\n",
            "mean   30.500000    1.833333     3500.000000  107.800000\n",
            "std    17.464249    0.806051     1089.238577    4.111992\n",
            "min     1.000000    1.000000     2500.000000  101.000000\n",
            "25%    15.750000    1.000000     2500.000000  104.000000\n",
            "50%    30.500000    2.000000     3000.000000  108.000000\n",
            "75%    45.250000    2.250000     5000.000000  112.000000\n",
            "max    60.000000    3.000000     5000.000000  113.000000\n",
            "   id        data   produto  quantidade  preco_unitario  cliente_id\n",
            "0   1  2023-01-05  Banheira           2          2500.0         101\n",
            "1   2  2023-02-12    OfurÃ´           1          3000.0         113\n",
            "2   3  2023-03-20       Spa           3          5000.0         103\n",
            "3   4  2023-04-10  Banheira           1          2500.0         104\n",
            "4   5  2023-05-15    OfurÃ´           2          3000.0         105\n"
          ]
        }
      ],
      "source": [
        "# Tabela de Vendas\n",
        "df_vendas = pd.DataFrame(dados['vendas'])\n",
        "print(df_vendas.describe())\n",
        "print(df_vendas.head())"
      ]
    },
    {
      "cell_type": "code",
      "execution_count": 7,
      "metadata": {
        "id": "W_4rnqaaaKAO"
      },
      "outputs": [
        {
          "name": "stdout",
          "output_type": "stream",
          "text": [
            "              id      idade\n",
            "count   13.00000  12.000000\n",
            "mean   107.00000  46.333333\n",
            "std      3.89444   7.126561\n",
            "min    101.00000  36.000000\n",
            "25%    104.00000  41.500000\n",
            "50%    107.00000  46.000000\n",
            "75%    110.00000  50.500000\n",
            "max    113.00000  60.000000\n",
            "    id            nome  idade       sexo          cidade valor_gasto_total\n",
            "0  101  JoÃ£o da Silva   45.0  Masculino      SÃ£o Paulo              None\n",
            "1  102  Maria Oliveira   38.0   Feminino  Rio de Janeiro              None\n",
            "2  103    Carlos Souza   50.0  Masculino  Belo Horizonte              None\n",
            "3  104      Ana Santos   55.0   Feminino    Porto Alegre              None\n",
            "4  105     Pedro Costa   42.0  Masculino       BrasÃ­lia              None\n"
          ]
        }
      ],
      "source": [
        "# Tabela de Clientes\n",
        "df_cliente = pd.DataFrame(dados['comportamento_do_cliente'])\n",
        "print(df_cliente.describe())\n",
        "print(df_cliente.head())"
      ]
    },
    {
      "cell_type": "code",
      "execution_count": 8,
      "metadata": {
        "id": "cAEYkTmRaMkT"
      },
      "outputs": [
        {
          "name": "stdout",
          "output_type": "stream",
          "text": [
            "         produto vendas_totais receita_total\n",
            "count          3             0             0\n",
            "unique         3             0             0\n",
            "top     Banheira           NaN           NaN\n",
            "freq           1           NaN           NaN\n",
            "    id            nome  idade       sexo          cidade valor_gasto_total\n",
            "0  101  JoÃ£o da Silva   45.0  Masculino      SÃ£o Paulo              None\n",
            "1  102  Maria Oliveira   38.0   Feminino  Rio de Janeiro              None\n",
            "2  103    Carlos Souza   50.0  Masculino  Belo Horizonte              None\n",
            "3  104      Ana Santos   55.0   Feminino    Porto Alegre              None\n",
            "4  105     Pedro Costa   42.0  Masculino       BrasÃ­lia              None\n"
          ]
        }
      ],
      "source": [
        "# Tabela de Produtos\n",
        "df_produto = pd.DataFrame(dados['desempenho_do_produto'])\n",
        "print(df_produto.describe())\n",
        "print(df_cliente.head())"
      ]
    },
    {
      "cell_type": "code",
      "execution_count": 9,
      "metadata": {
        "id": "V_CNfu32UPob"
      },
      "outputs": [],
      "source": [
        "profile = ProfileReport(df_vendas, title=\"vendas\")"
      ]
    },
    {
      "cell_type": "code",
      "execution_count": 10,
      "metadata": {
        "id": "jDGzihHpU1cy"
      },
      "outputs": [
        {
          "name": "stderr",
          "output_type": "stream",
          "text": [
            "Summarize dataset: 100%|██████████| 19/19 [00:10<00:00,  1.83it/s, Completed]                      \n",
            "Generate report structure: 100%|██████████| 1/1 [00:21<00:00, 21.50s/it]\n",
            "Render HTML: 100%|██████████| 1/1 [00:02<00:00,  2.71s/it]\n",
            "Export report to file: 100%|██████████| 1/1 [00:00<00:00, 123.54it/s]\n"
          ]
        }
      ],
      "source": [
        "profile.to_file(\"vendas.html\")"
      ]
    },
    {
      "cell_type": "code",
      "execution_count": 11,
      "metadata": {
        "id": "zTjQdP41brn5"
      },
      "outputs": [
        {
          "name": "stdout",
          "output_type": "stream",
          "text": [
            "data\n",
            "2023-01-05    5\n",
            "2023-02-12    5\n",
            "2023-03-20    5\n",
            "2023-04-10    5\n",
            "2023-05-15    5\n",
            "2023-06-25    5\n",
            "2023-07-05    5\n",
            "2023-08-18    5\n",
            "2023-09-30    5\n",
            "2023-10-08    5\n",
            "2023-11-12    5\n",
            "2023-12-20    5\n",
            "Name: count, dtype: int64\n",
            "         data  quantidade        mes\n",
            "0  2023-01-05          12    janeiro\n",
            "1  2023-02-12           9  fevereiro\n",
            "2  2023-03-20           9     marÃ§o\n",
            "3  2023-04-10           7      abril\n",
            "4  2023-05-15          12       maio\n",
            "5  2023-06-25           8      junho\n",
            "6  2023-07-05           5      julho\n",
            "7  2023-08-18          13     agosto\n",
            "8  2023-09-30           9   setembro\n",
            "9  2023-10-08           8    outubro\n",
            "10 2023-11-12           7   novembro\n",
            "11 2023-12-20          11   dezembro\n"
          ]
        }
      ],
      "source": [
        "# Plotagem de Gráfico com a quantidade de vendas por mês\n",
        "import matplotlib.pyplot as plt\n",
        "import matplotlib\n",
        "matplotlib.use('TkAgg')\n",
        "import seaborn as sns\n",
        "import locale\n",
        "\n",
        "locale.setlocale(locale.LC_TIME, 'pt_BR.UTF-8')\n",
        "\n",
        "# Convertendo a coluna data para datetime\n",
        "df_vendas['data'] = pd.to_datetime(df_vendas['data'])\n",
        "# Contando os dias de venda\n",
        "dias = df_vendas['data'].value_counts()\n",
        "# Somando a quantidade de vendas por dia\n",
        "vendas_mes = df_vendas.groupby('data')['quantidade'].sum().reset_index(name='quantidade')\n",
        "# Definindo os meses de acordo com as datas\n",
        "vendas_mes['mes'] = vendas_mes['data'].dt.strftime('%B')\n",
        "print(dias)\n",
        "print(vendas_mes)\n",
        "\n",
        "# Plotando os gráficos de vendas por mês\n",
        "plt.figure(figsize=(12, 6))\n",
        "sns.barplot(data=vendas_mes, x='mes', y='quantidade', color= 'xkcd:coral')\n",
        "plt.title('Quantidade de vendas por Mês')\n",
        "plt.xlabel('Meses')\n",
        "plt.ylabel('Quantidade Vendida')\n",
        "plt.xticks(rotation=45)\n",
        "plt.tight_layout()\n",
        "plt.show()"
      ]
    },
    {
      "cell_type": "markdown",
      "metadata": {
        "id": "w-JF08pUSpVi"
      },
      "source": [
        "## **Análise Estatística Inicial**"
      ]
    },
    {
      "cell_type": "code",
      "execution_count": 12,
      "metadata": {
        "id": "DLqDsWSuSt66"
      },
      "outputs": [
        {
          "name": "stdout",
          "output_type": "stream",
          "text": [
            "   id       data   produto  quantidade  preco_unitario  cliente_id\n",
            "0   1 2023-01-05  Banheira           2          2500.0         101\n",
            "1   2 2023-02-12    OfurÃ´           1          3000.0         113\n",
            "2   3 2023-03-20       Spa           3          5000.0         103\n",
            "3   4 2023-04-10  Banheira           1          2500.0         104\n",
            "4   5 2023-05-15    OfurÃ´           2          3000.0         105\n",
            "<class 'pandas.core.frame.DataFrame'>\n",
            "RangeIndex: 60 entries, 0 to 59\n",
            "Data columns (total 6 columns):\n",
            " #   Column          Non-Null Count  Dtype         \n",
            "---  ------          --------------  -----         \n",
            " 0   id              60 non-null     int64         \n",
            " 1   data            60 non-null     datetime64[ns]\n",
            " 2   produto         60 non-null     object        \n",
            " 3   quantidade      60 non-null     int64         \n",
            " 4   preco_unitario  60 non-null     float64       \n",
            " 5   cliente_id      60 non-null     int64         \n",
            "dtypes: datetime64[ns](1), float64(1), int64(3), object(1)\n",
            "memory usage: 2.9+ KB\n",
            "None\n",
            "              id                 data  quantidade  preco_unitario  cliente_id\n",
            "count  60.000000                   60   60.000000       60.000000   60.000000\n",
            "mean   30.500000  2023-06-30 12:00:00    1.833333     3500.000000  107.800000\n",
            "min     1.000000  2023-01-05 00:00:00    1.000000     2500.000000  101.000000\n",
            "25%    15.750000  2023-04-04 18:00:00    1.000000     2500.000000  104.000000\n",
            "50%    30.500000  2023-06-30 00:00:00    2.000000     3000.000000  108.000000\n",
            "75%    45.250000  2023-10-02 00:00:00    2.250000     5000.000000  112.000000\n",
            "max    60.000000  2023-12-20 00:00:00    3.000000     5000.000000  113.000000\n",
            "std    17.464249                  NaN    0.806051     1089.238577    4.111992\n",
            "produto\n",
            "Banheira    2500.0\n",
            "OfurÃ´      3000.0\n",
            "Spa         5000.0\n",
            "Name: preco_unitario, dtype: float64\n",
            "1\n",
            "3\n"
          ]
        }
      ],
      "source": [
        "# Calculando estatísticas de VENDAS\n",
        "print(df_vendas.head())\n",
        "print(df_vendas.info())\n",
        "print(df_vendas.describe())\n",
        "\n",
        "media_vendas = df_vendas.groupby('produto')['preco_unitario'].mean()\n",
        "print(media_vendas)\n",
        "\n",
        "print(df_vendas['quantidade'].min())\n",
        "print(df_vendas['quantidade'].max())\n"
      ]
    },
    {
      "cell_type": "code",
      "execution_count": 13,
      "metadata": {
        "id": "CKleDtzOTfsm"
      },
      "outputs": [
        {
          "name": "stdout",
          "output_type": "stream",
          "text": [
            "     id             nome  idade       sexo          cidade valor_gasto_total\n",
            "0   101   JoÃ£o da Silva   45.0  Masculino      SÃ£o Paulo              None\n",
            "1   102   Maria Oliveira   38.0   Feminino  Rio de Janeiro              None\n",
            "2   103     Carlos Souza   50.0  Masculino  Belo Horizonte              None\n",
            "3   104       Ana Santos   55.0   Feminino    Porto Alegre              None\n",
            "4   105      Pedro Costa   42.0  Masculino       BrasÃ­lia              None\n",
            "5   106    Sofia Pereira   48.0   Feminino          Recife              None\n",
            "6   107     JosÃ© Santos   60.0  Masculino        Salvador              None\n",
            "7   108       Paula Lima   36.0   Feminino       Fortaleza              None\n",
            "8   109    Luiz Oliveira   47.0  Masculino          Manaus              None\n",
            "9   110  Cristina Santos   52.0   Feminino        Curitiba              None\n",
            "10  111    Antonio Costa   40.0  Masculino           Natal              None\n",
            "11  112    Beatriz Silva   43.0   Feminino  FlorianÃ³polis              None\n",
            "12  113     Loja Propria    NaN       None         Limeira              None\n",
            "              id      idade\n",
            "count   13.00000  12.000000\n",
            "mean   107.00000  46.333333\n",
            "std      3.89444   7.126561\n",
            "min    101.00000  36.000000\n",
            "25%    104.00000  41.500000\n",
            "50%    107.00000  46.000000\n",
            "75%    110.00000  50.500000\n",
            "max    113.00000  60.000000\n",
            "<class 'pandas.core.frame.DataFrame'>\n",
            "RangeIndex: 13 entries, 0 to 12\n",
            "Data columns (total 6 columns):\n",
            " #   Column             Non-Null Count  Dtype  \n",
            "---  ------             --------------  -----  \n",
            " 0   id                 13 non-null     int64  \n",
            " 1   nome               13 non-null     object \n",
            " 2   idade              12 non-null     float64\n",
            " 3   sexo               12 non-null     object \n",
            " 4   cidade             13 non-null     object \n",
            " 5   valor_gasto_total  0 non-null      object \n",
            "dtypes: float64(1), int64(1), object(4)\n",
            "memory usage: 756.0+ bytes\n",
            "None\n",
            "36.0\n",
            "60.0\n"
          ]
        }
      ],
      "source": [
        "# Calculando estatísticas de CLIENTES\n",
        "print(df_cliente)\n",
        "print(df_cliente.describe())\n",
        "print(df_cliente.info())\n",
        "\n",
        "print(df_cliente['idade'].min())\n",
        "print(df_cliente['idade'].max())"
      ]
    },
    {
      "cell_type": "code",
      "execution_count": 14,
      "metadata": {
        "id": "Tvs2ryfOTxZt"
      },
      "outputs": [
        {
          "name": "stdout",
          "output_type": "stream",
          "text": [
            "    produto vendas_totais receita_total\n",
            "0  Banheira          None          None\n",
            "1    OfurÃ´          None          None\n",
            "2       Spa          None          None\n",
            "         produto vendas_totais receita_total\n",
            "count          3             0             0\n",
            "unique         3             0             0\n",
            "top     Banheira           NaN           NaN\n",
            "freq           1           NaN           NaN\n",
            "<class 'pandas.core.frame.DataFrame'>\n",
            "RangeIndex: 3 entries, 0 to 2\n",
            "Data columns (total 3 columns):\n",
            " #   Column         Non-Null Count  Dtype \n",
            "---  ------         --------------  ----- \n",
            " 0   produto        3 non-null      object\n",
            " 1   vendas_totais  0 non-null      object\n",
            " 2   receita_total  0 non-null      object\n",
            "dtypes: object(3)\n",
            "memory usage: 204.0+ bytes\n",
            "None\n"
          ]
        }
      ],
      "source": [
        "# Calculando estatísticas de PRODUTOS\n",
        "print(df_produto)\n",
        "print(df_produto.describe())\n",
        "print(df_produto.info())\n"
      ]
    },
    {
      "cell_type": "markdown",
      "metadata": {
        "id": "RD88MGk7UXeH"
      },
      "source": [
        "## **Análise de Produtos**"
      ]
    },
    {
      "cell_type": "code",
      "execution_count": 15,
      "metadata": {
        "id": "i2sHTUtwUcOp"
      },
      "outputs": [
        {
          "name": "stdout",
          "output_type": "stream",
          "text": [
            "   id       data   produto  quantidade  preco_unitario  cliente_id\n",
            "0   1 2023-01-05  Banheira           2          2500.0         101\n",
            "1   2 2023-02-12    OfurÃ´           1          3000.0         113\n",
            "2   3 2023-03-20       Spa           3          5000.0         103\n",
            "3   4 2023-04-10  Banheira           1          2500.0         104\n",
            "4   5 2023-05-15    OfurÃ´           2          3000.0         105\n",
            "    produto  quantidade\n",
            "0  Banheira          32\n",
            "1    OfurÃ´          41\n",
            "2       Spa          37\n",
            "    produto  receita_total\n",
            "0  Banheira        80000.0\n",
            "1    OfurÃ´       123000.0\n",
            "2       Spa       185000.0\n",
            "    produto  vendas_totais  receita_total\n",
            "0  Banheira             32        80000.0\n",
            "1    OfurÃ´             41       123000.0\n",
            "2       Spa             37       185000.0\n"
          ]
        }
      ],
      "source": [
        "print(df_vendas.head())\n",
        "\n",
        "# Calculando a quantidade de produtos vendidos\n",
        "mais_vendidos = df_vendas.groupby('produto')['quantidade'].sum().reset_index(name= 'quantidade')\n",
        "print(mais_vendidos)\n",
        "\n",
        "# Calculando a receita total de cada produto\n",
        "df_vendas['preco_total'] = df_vendas['quantidade'] * df_vendas['preco_unitario']\n",
        "receita_total = df_vendas.groupby('produto')['preco_total'].sum().reset_index(name= 'receita_total')\n",
        "print(receita_total)\n",
        "\n",
        "# Definindo os valores nulos do df_produto\n",
        "df_produto['receita_total'] = receita_total['receita_total']\n",
        "df_produto['vendas_totais'] = mais_vendidos['quantidade']\n",
        "\n",
        "print(df_produto)\n",
        "\n",
        "# Plotando o gráfico de barras de produtos vendidos\n",
        "plt.figure(figsize=(12, 6))\n",
        "sns.barplot(data=mais_vendidos, x='produto', y='quantidade', color=\"xkcd:coral\")\n",
        "plt.title('Quantidade de Produtos Vendidos')\n",
        "plt.xlabel('Produto')\n",
        "plt.ylabel('Quantidade Vendida')\n",
        "plt.tight_layout()\n",
        "plt.show()\n",
        "\n",
        "# Plotando o gráfico de pizza da receita total dos produtos\n",
        "plt.figure(figsize=(12, 6))\n",
        "plt.title('Receita total dos Produtos')\n",
        "colors = sns.color_palette('pastel')\n",
        "plt.pie(receita_total['receita_total'],labels= receita_total['produto'], colors=colors, autopct='%.0f%%')\n",
        "plt.tight_layout()\n",
        "plt.show()\n"
      ]
    },
    {
      "cell_type": "markdown",
      "metadata": {},
      "source": [
        "## **Análise Temporal**"
      ]
    },
    {
      "cell_type": "code",
      "execution_count": 70,
      "metadata": {},
      "outputs": [
        {
          "name": "stdout",
          "output_type": "stream",
          "text": [
            "    id       data   produto  quantidade  preco_unitario  cliente_id  \\\n",
            "0    1 2023-01-05  Banheira           2          2500.0         101   \n",
            "1    2 2023-02-12    OfurÃ´           1          3000.0         113   \n",
            "2    3 2023-03-20       Spa           3          5000.0         103   \n",
            "3    4 2023-04-10  Banheira           1          2500.0         104   \n",
            "4    5 2023-05-15    OfurÃ´           2          3000.0         105   \n",
            "5    6 2023-06-25       Spa           2          5000.0         106   \n",
            "6    7 2023-07-05  Banheira           1          2500.0         113   \n",
            "7    8 2023-08-18    OfurÃ´           3          3000.0         108   \n",
            "8    9 2023-09-30       Spa           1          5000.0         109   \n",
            "9   10 2023-10-08  Banheira           2          2500.0         110   \n",
            "10  11 2023-11-12    OfurÃ´           1          3000.0         111   \n",
            "11  12 2023-12-20       Spa           3          5000.0         112   \n",
            "12  13 2023-01-05  Banheira           3          2500.0         101   \n",
            "13  14 2023-02-12    OfurÃ´           1          3000.0         102   \n",
            "14  15 2023-03-20       Spa           2          5000.0         103   \n",
            "15  16 2023-04-10  Banheira           2          2500.0         104   \n",
            "16  17 2023-05-15    OfurÃ´           3          3000.0         105   \n",
            "17  18 2023-06-25       Spa           1          5000.0         106   \n",
            "18  19 2023-07-05  Banheira           1          2500.0         107   \n",
            "19  20 2023-08-18    OfurÃ´           2          3000.0         108   \n",
            "20  21 2023-09-30       Spa           3          5000.0         109   \n",
            "21  22 2023-10-08  Banheira           1          2500.0         113   \n",
            "22  23 2023-11-12    OfurÃ´           2          3000.0         111   \n",
            "23  24 2023-12-20       Spa           1          5000.0         112   \n",
            "24  25 2023-01-05  Banheira           2          2500.0         113   \n",
            "25  26 2023-02-12    OfurÃ´           3          3000.0         102   \n",
            "26  27 2023-03-20       Spa           1          5000.0         103   \n",
            "27  28 2023-04-10  Banheira           1          2500.0         113   \n",
            "28  29 2023-05-15    OfurÃ´           2          3000.0         105   \n",
            "29  30 2023-06-25       Spa           2          5000.0         106   \n",
            "30  31 2023-07-05  Banheira           1          2500.0         113   \n",
            "31  32 2023-08-18    OfurÃ´           3          3000.0         108   \n",
            "32  33 2023-09-30       Spa           1          5000.0         109   \n",
            "33  34 2023-10-08  Banheira           2          2500.0         113   \n",
            "34  35 2023-11-12    OfurÃ´           1          3000.0         111   \n",
            "35  36 2023-12-20       Spa           3          5000.0         112   \n",
            "36  37 2023-01-05  Banheira           3          2500.0         101   \n",
            "37  38 2023-02-12    OfurÃ´           1          3000.0         102   \n",
            "38  39 2023-03-20       Spa           2          5000.0         103   \n",
            "39  40 2023-04-10  Banheira           2          2500.0         104   \n",
            "40  41 2023-05-15    OfurÃ´           3          3000.0         113   \n",
            "41  42 2023-06-25       Spa           1          5000.0         106   \n",
            "42  43 2023-07-05  Banheira           1          2500.0         113   \n",
            "43  44 2023-08-18    OfurÃ´           2          3000.0         108   \n",
            "44  45 2023-09-30       Spa           3          5000.0         109   \n",
            "45  46 2023-10-08  Banheira           1          2500.0         110   \n",
            "46  47 2023-11-12    OfurÃ´           2          3000.0         113   \n",
            "47  48 2023-12-20       Spa           1          5000.0         112   \n",
            "48  49 2023-01-05  Banheira           2          2500.0         101   \n",
            "49  50 2023-02-12    OfurÃ´           3          3000.0         102   \n",
            "50  51 2023-03-20       Spa           1          5000.0         103   \n",
            "51  52 2023-04-10  Banheira           1          2500.0         113   \n",
            "52  53 2023-05-15    OfurÃ´           2          3000.0         105   \n",
            "53  54 2023-06-25       Spa           2          5000.0         106   \n",
            "54  55 2023-07-05  Banheira           1          2500.0         107   \n",
            "55  56 2023-08-18    OfurÃ´           3          3000.0         108   \n",
            "56  57 2023-09-30       Spa           1          5000.0         109   \n",
            "57  58 2023-10-08  Banheira           2          2500.0         113   \n",
            "58  59 2023-11-12    OfurÃ´           1          3000.0         111   \n",
            "59  60 2023-12-20       Spa           3          5000.0         112   \n",
            "\n",
            "    preco_total  \n",
            "0        5000.0  \n",
            "1        3000.0  \n",
            "2       15000.0  \n",
            "3        2500.0  \n",
            "4        6000.0  \n",
            "5       10000.0  \n",
            "6        2500.0  \n",
            "7        9000.0  \n",
            "8        5000.0  \n",
            "9        5000.0  \n",
            "10       3000.0  \n",
            "11      15000.0  \n",
            "12       7500.0  \n",
            "13       3000.0  \n",
            "14      10000.0  \n",
            "15       5000.0  \n",
            "16       9000.0  \n",
            "17       5000.0  \n",
            "18       2500.0  \n",
            "19       6000.0  \n",
            "20      15000.0  \n",
            "21       2500.0  \n",
            "22       6000.0  \n",
            "23       5000.0  \n",
            "24       5000.0  \n",
            "25       9000.0  \n",
            "26       5000.0  \n",
            "27       2500.0  \n",
            "28       6000.0  \n",
            "29      10000.0  \n",
            "30       2500.0  \n",
            "31       9000.0  \n",
            "32       5000.0  \n",
            "33       5000.0  \n",
            "34       3000.0  \n",
            "35      15000.0  \n",
            "36       7500.0  \n",
            "37       3000.0  \n",
            "38      10000.0  \n",
            "39       5000.0  \n",
            "40       9000.0  \n",
            "41       5000.0  \n",
            "42       2500.0  \n",
            "43       6000.0  \n",
            "44      15000.0  \n",
            "45       2500.0  \n",
            "46       6000.0  \n",
            "47       5000.0  \n",
            "48       5000.0  \n",
            "49       9000.0  \n",
            "50       5000.0  \n",
            "51       2500.0  \n",
            "52       6000.0  \n",
            "53      10000.0  \n",
            "54       2500.0  \n",
            "55       9000.0  \n",
            "56       5000.0  \n",
            "57       5000.0  \n",
            "58       3000.0  \n",
            "59      15000.0  \n",
            "         data   produto  quant\n",
            "0  2023-01-05  Banheira      5\n",
            "1  2023-02-12    OfurÃ´      5\n",
            "2  2023-03-20       Spa      5\n",
            "3  2023-04-10  Banheira      5\n",
            "4  2023-05-15    OfurÃ´      5\n",
            "5  2023-06-25       Spa      5\n",
            "6  2023-07-05  Banheira      5\n",
            "7  2023-08-18    OfurÃ´      5\n",
            "8  2023-09-30       Spa      5\n",
            "9  2023-10-08  Banheira      5\n",
            "10 2023-11-12    OfurÃ´      5\n",
            "11 2023-12-20       Spa      5\n"
          ]
        },
        {
          "name": "stderr",
          "output_type": "stream",
          "text": [
            "c:\\Users\\Rafael Moura\\AppData\\Local\\Programs\\Python\\Python311\\Lib\\site-packages\\seaborn\\_oldcore.py:1119: FutureWarning: use_inf_as_na option is deprecated and will be removed in a future version. Convert inf values to NaN before operating instead.\n",
            "  with pd.option_context('mode.use_inf_as_na', True):\n",
            "c:\\Users\\Rafael Moura\\AppData\\Local\\Programs\\Python\\Python311\\Lib\\site-packages\\seaborn\\_oldcore.py:1119: FutureWarning: use_inf_as_na option is deprecated and will be removed in a future version. Convert inf values to NaN before operating instead.\n",
            "  with pd.option_context('mode.use_inf_as_na', True):\n"
          ]
        },
        {
          "name": "stdout",
          "output_type": "stream",
          "text": [
            "         data   vendas\n",
            "0  2023-01-05  30000.0\n",
            "1  2023-02-12  27000.0\n",
            "2  2023-03-20  45000.0\n",
            "3  2023-04-10  17500.0\n",
            "4  2023-05-15  36000.0\n",
            "5  2023-06-25  40000.0\n",
            "6  2023-07-05  12500.0\n",
            "7  2023-08-18  39000.0\n",
            "8  2023-09-30  45000.0\n",
            "9  2023-10-08  20000.0\n",
            "10 2023-11-12  21000.0\n",
            "11 2023-12-20  55000.0\n"
          ]
        },
        {
          "name": "stderr",
          "output_type": "stream",
          "text": [
            "c:\\Users\\Rafael Moura\\AppData\\Local\\Programs\\Python\\Python311\\Lib\\site-packages\\seaborn\\_oldcore.py:1119: FutureWarning: use_inf_as_na option is deprecated and will be removed in a future version. Convert inf values to NaN before operating instead.\n",
            "  with pd.option_context('mode.use_inf_as_na', True):\n",
            "c:\\Users\\Rafael Moura\\AppData\\Local\\Programs\\Python\\Python311\\Lib\\site-packages\\seaborn\\_oldcore.py:1119: FutureWarning: use_inf_as_na option is deprecated and will be removed in a future version. Convert inf values to NaN before operating instead.\n",
            "  with pd.option_context('mode.use_inf_as_na', True):\n"
          ]
        }
      ],
      "source": [
        "# Análise das quantidade vendidas ao longo do tempo\n",
        "print(df_vendas)\n",
        "quant_vendida_mes = df_vendas.groupby('data')['produto'].value_counts().reset_index(name= 'quant')\n",
        "print(quant_vendida_mes)\n",
        "quant_vendida_mes['mes'] = quant_vendida_mes['data'].dt.strftime('%B')\n",
        "sns.set_theme(style=\"dark\")\n",
        "sns.lineplot(data=quant_vendida_mes, x=\"mes\", y=\"quant\")\n",
        "plt.xlabel('Data')\n",
        "plt.ylabel('Quantidade Vendida')\n",
        "plt.title('Quantidade de vendas ao longos dos meses de 2023')\n",
        "plt.show()\n",
        "\n",
        "# Receita por mês\n",
        "money = df_vendas.groupby('data')['preco_total'].sum().reset_index(name= 'vendas')\n",
        "print(money)\n",
        "# Plotando o gráfico de linha de receita x mês\n",
        "money['mes'] = money['data'].dt.strftime('%B')\n",
        "sns.set_theme(style=\"dark\")\n",
        "sns.lineplot(data=money, x=\"mes\", y=\"vendas\")\n",
        "vendas_mes['mes'] = vendas_mes['data'].dt.strftime('%B')\n",
        "plt.xlabel('Data')\n",
        "plt.ylabel('Vendas')\n",
        "plt.title('Vendas ao longos dos meses de 2023')\n",
        "plt.show()\n"
      ]
    },
    {
      "cell_type": "markdown",
      "metadata": {},
      "source": [
        "## **Análise de Clientes**"
      ]
    },
    {
      "cell_type": "code",
      "execution_count": 109,
      "metadata": {},
      "outputs": [
        {
          "name": "stdout",
          "output_type": "stream",
          "text": [
            "    cliente_id  gasto_cliente\n",
            "0          101        25000.0\n",
            "1          102        24000.0\n",
            "2          103        45000.0\n",
            "3          104        12500.0\n",
            "4          105        27000.0\n",
            "5          106        40000.0\n",
            "6          107         5000.0\n",
            "7          108        39000.0\n",
            "8          109        45000.0\n",
            "9          110         7500.0\n",
            "10         111        15000.0\n",
            "11         112        55000.0\n",
            "12         113        48000.0\n",
            "    cliente_id  frequencia\n",
            "0          101           4\n",
            "1          102           4\n",
            "2          103           5\n",
            "3          104           3\n",
            "4          105           4\n",
            "5          106           5\n",
            "6          107           2\n",
            "7          108           5\n",
            "8          109           5\n",
            "9          110           2\n",
            "10         111           4\n",
            "11         112           5\n",
            "12         113          12\n",
            "     id             nome  idade       sexo          cidade  valor_gasto_total\n",
            "0   101   JoÃ£o da Silva   45.0  Masculino      SÃ£o Paulo            25000.0\n",
            "1   102   Maria Oliveira   38.0   Feminino  Rio de Janeiro            24000.0\n",
            "2   103     Carlos Souza   50.0  Masculino  Belo Horizonte            45000.0\n",
            "3   104       Ana Santos   55.0   Feminino    Porto Alegre            12500.0\n",
            "4   105      Pedro Costa   42.0  Masculino       BrasÃ­lia            27000.0\n",
            "5   106    Sofia Pereira   48.0   Feminino          Recife            40000.0\n",
            "6   107     JosÃ© Santos   60.0  Masculino        Salvador             5000.0\n",
            "7   108       Paula Lima   36.0   Feminino       Fortaleza            39000.0\n",
            "8   109    Luiz Oliveira   47.0  Masculino          Manaus            45000.0\n",
            "9   110  Cristina Santos   52.0   Feminino        Curitiba             7500.0\n",
            "10  111    Antonio Costa   40.0  Masculino           Natal            15000.0\n",
            "11  112    Beatriz Silva   43.0   Feminino  FlorianÃ³polis            55000.0\n",
            "12  113     Loja Propria    NaN       None         Limeira            48000.0\n"
          ]
        }
      ],
      "source": [
        "import seaborn as sns\n",
        "# Calculo do gasto total de cada cliente\n",
        "gasto_cliente = df_vendas.groupby('cliente_id')['preco_total'].sum().reset_index(name='gasto_cliente')\n",
        "print(gasto_cliente)\n",
        "\n",
        "# DataFrame df_cliente atualizada com os totais gastos por cada cliente\n",
        "df_cliente['valor_gasto_total'] = gasto_cliente['gasto_cliente']\n",
        "print(df_cliente)\n",
        "cliente = df_cliente['nome']\n",
        "gastos = df_cliente['valor_gasto_total']\n",
        "cidade = df_cliente['cidade']\n",
        "sns.set_theme(style=\"whitegrid\")\n",
        "cmap = sns.cubehelix_palette(rot=-.2, as_cmap=True)\n",
        "g = sns.relplot(\n",
        "    data=df_cliente,\n",
        "    x=\"cidade\", y=\"nome\",\n",
        "    hue=\"valor_gasto_total\", size=\"valor_gasto_total\",\n",
        "    palette=cmap, sizes=(10, 200),\n",
        ")\n",
        "g.despine(left=True, bottom=True)\n",
        "plt.xticks(rotation=45)\n",
        "plt.show()\n",
        "\n",
        "# Calcular a frequência de compra de cada cliente\n",
        "frequencia_compra = df_vendas.groupby('cliente_id').size().reset_index(name='frequencia')\n",
        "print(frequencia_compra)\n",
        "sns.barplot(data=frequencia_compra, x='cliente_id', y='frequencia')\n",
        "plt.xlabel('ID do Cliente')\n",
        "plt.ylabel('Frequência de Compra')\n",
        "plt.title('Histograma da Frequência de Compra por Cliente')\n",
        "plt.show()"
      ]
    },
    {
      "cell_type": "markdown",
      "metadata": {},
      "source": [
        "## **Análise de Preços** "
      ]
    },
    {
      "cell_type": "code",
      "execution_count": 45,
      "metadata": {},
      "outputs": [
        {
          "name": "stdout",
          "output_type": "stream",
          "text": [
            "preco_unitario\n",
            "2500.0     20\n",
            "3000.0     20\n",
            "5000.0     20\n",
            "produto    60\n",
            "Name: count, dtype: int64\n"
          ]
        }
      ],
      "source": []
    },
    {
      "cell_type": "markdown",
      "metadata": {},
      "source": [
        "## **CONCLUSÃO**"
      ]
    },
    {
      "cell_type": "code",
      "execution_count": 18,
      "metadata": {},
      "outputs": [
        {
          "name": "stdout",
          "output_type": "stream",
          "text": [
            "   id       data   produto  quantidade  preco_unitario  cliente_id  \\\n",
            "0   1 2023-01-05  Banheira           2          2500.0         101   \n",
            "1   2 2023-02-12    OfurÃ´           1          3000.0         113   \n",
            "2   3 2023-03-20       Spa           3          5000.0         103   \n",
            "3   4 2023-04-10  Banheira           1          2500.0         104   \n",
            "4   5 2023-05-15    OfurÃ´           2          3000.0         105   \n",
            "\n",
            "   preco_total  \n",
            "0       5000.0  \n",
            "1       3000.0  \n",
            "2      15000.0  \n",
            "3       2500.0  \n",
            "4       6000.0  \n",
            "    id            nome  idade       sexo          cidade  valor_gasto_total\n",
            "0  101  JoÃ£o da Silva   45.0  Masculino      SÃ£o Paulo            25000.0\n",
            "1  102  Maria Oliveira   38.0   Feminino  Rio de Janeiro            24000.0\n",
            "2  103    Carlos Souza   50.0  Masculino  Belo Horizonte            45000.0\n",
            "3  104      Ana Santos   55.0   Feminino    Porto Alegre            12500.0\n",
            "4  105     Pedro Costa   42.0  Masculino       BrasÃ­lia            27000.0\n",
            "    produto  vendas_totais  receita_total\n",
            "0  Banheira             32        80000.0\n",
            "1    OfurÃ´             41       123000.0\n",
            "2       Spa             37       185000.0\n"
          ]
        }
      ],
      "source": [
        "print(df_vendas.head())\n",
        "\n",
        "print(df_cliente.head())\n",
        "\n",
        "print(df_produto.head())"
      ]
    }
  ],
  "metadata": {
    "colab": {
      "collapsed_sections": [
        "_cxfugSUSfV7"
      ],
      "provenance": []
    },
    "kernelspec": {
      "display_name": "Python 3",
      "name": "python3"
    },
    "language_info": {
      "codemirror_mode": {
        "name": "ipython",
        "version": 3
      },
      "file_extension": ".py",
      "mimetype": "text/x-python",
      "name": "python",
      "nbconvert_exporter": "python",
      "pygments_lexer": "ipython3",
      "version": "3.11.4"
    }
  },
  "nbformat": 4,
  "nbformat_minor": 0
}
